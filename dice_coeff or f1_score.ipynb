{
 "cells": [
  {
   "cell_type": "code",
   "execution_count": 1,
   "metadata": {},
   "outputs": [],
   "source": [
    "import numpy as np\n",
    "import cv2\n",
    "from pathlib import Path\n",
    "import matplotlib.pyplot as plt"
   ]
  },
  {
   "cell_type": "code",
   "execution_count": 2,
   "metadata": {},
   "outputs": [],
   "source": [
    "def list_img(path,filetypes):\n",
    "    \n",
    "    files = []    \n",
    "    for filename in Path(str(path)).rglob('*.{}'.format(filetypes)):\n",
    "        files.append(filename)\n",
    "    return files"
   ]
  },
  {
   "cell_type": "code",
   "execution_count": 3,
   "metadata": {},
   "outputs": [],
   "source": [
    "def binary_image(path, threshold=100):\n",
    "    \n",
    "    im = np.array(cv2.imread(str(path), 0))\n",
    "    im = 1.0 * (im < threshold)\n",
    "    \n",
    "    return im    "
   ]
  },
  {
   "cell_type": "code",
   "execution_count": 4,
   "metadata": {},
   "outputs": [],
   "source": [
    "def f1_score(gt,sg):\n",
    "    '''\n",
    "    Returns evaluasi segmentasi citra menggunakan perhitungan f1 score/dice coeff\n",
    "    Parameters\n",
    "    ------------\n",
    "    gt : 2d numpy arry\n",
    "         citra ground truth\n",
    "    sg : 2d numpy array\n",
    "         citra hasil segmentasi\n",
    "         \n",
    "    Notes\n",
    "    ------------\n",
    "    2d numpy array harus [0, 1]\n",
    "    0/hitam adalah background\n",
    "    1/putih adalah foreground\n",
    "\n",
    "    '''\n",
    "    if (gt.shape!=sg.shape):\n",
    "        return 'Size not match!'\n",
    "    \n",
    "    fn = (gt.ravel()>sg.ravel()).sum()\n",
    "    fp = (gt.ravel()<sg.ravel()).sum()\n",
    "    tn = ((gt.ravel()==0)&(sg.ravel()==0)).sum()\n",
    "    tp = ((gt.ravel()==1)&(sg.ravel()==1)).sum()\n",
    "              \n",
    "    f1 = (2*tp)/((2*tp)+fp+fn)\n",
    "              \n",
    "    return np.round(f1, 4)"
   ]
  },
  {
   "cell_type": "code",
   "execution_count": 5,
   "metadata": {},
   "outputs": [],
   "source": [
    "files_gt = list_img('ground_truth/', 'jpg')\n",
    "files_sg = list_img('segmentation/', 'png')"
   ]
  },
  {
   "cell_type": "code",
   "execution_count": 6,
   "metadata": {},
   "outputs": [
    {
     "data": {
      "image/png": "[encoded data removed]",
      "text/plain": [
       "<Figure size 432x288 with 2 Axes>"
      ]
     },
     "metadata": {
      "needs_background": "light"
     },
     "output_type": "display_data"
    }
   ],
   "source": [
    "idx = 5\n",
    "\n",
    "im_gt = binary_image(files_gt[idx])\n",
    "im_sg = binary_image(files_sg[idx])\n",
    "\n",
    "fig, ax = plt.subplots(1,2)\n",
    "ax[0].imshow(im_gt, cmap='binary')\n",
    "ax[0].axis('off')\n",
    "ax[1].imshow(im_sg, cmap='binary')\n",
    "ax[1].axis('off')\n",
    "\n",
    "plt.show()"
   ]
  },
  {
   "cell_type": "code",
   "execution_count": 7,
   "metadata": {},
   "outputs": [
    {
     "data": {
      "text/plain": [
       "0.999"
      ]
     },
     "execution_count": 7,
     "metadata": {},
     "output_type": "execute_result"
    }
   ],
   "source": [
    "f1_score(im_gt,im_sg)"
   ]
  },
  {
   "cell_type": "code",
   "execution_count": 8,
   "metadata": {},
   "outputs": [],
   "source": [
    "result = np.array([])\n",
    "for i in range (len(files_gt)):\n",
    "    g = binary_image(files_gt[i])\n",
    "    s = binary_image(files_sg[i])\n",
    "    result = np.append(result, f1_score(g, s))"
   ]
  },
  {
   "cell_type": "code",
   "execution_count": 9,
   "metadata": {},
   "outputs": [
    {
     "data": {
      "text/plain": [
       "[<matplotlib.lines.Line2D at 0x1b39954ecc0>]"
      ]
     },
     "execution_count": 9,
     "metadata": {},
     "output_type": "execute_result"
    },
    {
     "data": {
      "image/png": "[encoded data removed]",
      "text/plain": [
       "<Figure size 432x288 with 1 Axes>"
      ]
     },
     "metadata": {
      "needs_background": "light"
     },
     "output_type": "display_data"
    }
   ],
   "source": [
    "plt.plot(result)"
   ]
  }
 ],
 "metadata": {
  "kernelspec": {
   "display_name": "Python 3",
   "language": "python",
   "name": "python3"
  },
  "language_info": {
   "codemirror_mode": {
    "name": "ipython",
    "version": 3
   },
   "file_extension": ".py",
   "mimetype": "text/x-python",
   "name": "python",
   "nbconvert_exporter": "python",
   "pygments_lexer": "ipython3",
   "version": "3.6.8"
  }
 },
 "nbformat": 4,
 "nbformat_minor": 2
}
