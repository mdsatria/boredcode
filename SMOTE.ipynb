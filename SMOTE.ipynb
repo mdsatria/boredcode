{
 "cells": [
  {
   "cell_type": "markdown",
   "metadata": {},
   "source": [
    "## SMOTE\n",
    "Based on SMOTE : Synthetic Minority Over-sampling Technique by Nitesh V. Chawla et. al. https://arxiv.org/abs/1106.1813\n",
    "\n",
    "Let $T$ be the number of minority class, $N$ be the % number of over-sampled data and $k$ be the number of nearest neighbour"
   ]
  },
  {
   "cell_type": "code",
   "execution_count": 1,
   "metadata": {},
   "outputs": [],
   "source": [
    "import numpy as np\n",
    "import matplotlib.pyplot as plt"
   ]
  },
  {
   "cell_type": "markdown",
   "metadata": {},
   "source": [
    "Data depicted as below, row is the number of instance and column is the number of attribute"
   ]
  },
  {
   "cell_type": "code",
   "execution_count": 2,
   "metadata": {},
   "outputs": [
    {
     "data": {
      "text/plain": [
       "array([[65, 93],\n",
       "       [67,  9],\n",
       "       [68, 40],\n",
       "       [49, 10],\n",
       "       [ 1,  0],\n",
       "       [10, 96],\n",
       "       [24,  5],\n",
       "       [18, 46],\n",
       "       [ 8, 36],\n",
       "       [42, 27]])"
      ]
     },
     "execution_count": 2,
     "metadata": {},
     "output_type": "execute_result"
    }
   ],
   "source": [
    "X = np.random.randint(0, 100, size=(10,2))\n",
    "X"
   ]
  },
  {
   "cell_type": "markdown",
   "metadata": {},
   "source": [
    "We want to increase/over-sampling our data by 200% or 2 times, thus $N$ = 2"
   ]
  },
  {
   "cell_type": "code",
   "execution_count": 3,
   "metadata": {},
   "outputs": [],
   "source": [
    "N = 2"
   ]
  },
  {
   "cell_type": "markdown",
   "metadata": {},
   "source": [
    "First step, find the $k$-nearest neighbour for each instances in $T$. Set the default value for $k=3$. I only use euclidean equation to find distance among instaces. \n",
    "Afterward, the indices of all $k$-nearest neighbour will stored in array."
   ]
  },
  {
   "cell_type": "code",
   "execution_count": 4,
   "metadata": {},
   "outputs": [],
   "source": [
    "# distance function between two points\n",
    "def euclidian_distance(a, b):\n",
    "    return np.sqrt(np.sum((a-b)**2, axis=0))\n",
    "\n",
    "# function find the indices of k-nearest neighbour for one instance\n",
    "def kNN(instance, data, k=3):    \n",
    "    \n",
    "    # number of instance in data\n",
    "    n = data.shape[0]\n",
    "    # variable for storing result\n",
    "    temp = np.zeros(n)\n",
    "    # calculate distance on instance and data\n",
    "    for i in range(n):\n",
    "        temp[i] = euclidian_distance(instance, X[i, :])\n",
    "    \n",
    "    # sort the distance and return the indices of the k-nearest neighbour\n",
    "    return np.argsort(temp)[:k] "
   ]
  },
  {
   "cell_type": "code",
   "execution_count": 5,
   "metadata": {},
   "outputs": [],
   "source": [
    "# function to find the instance based on the indices which returned from kNN()\n",
    "def populateNArray(data, k=3):\n",
    "    \n",
    "    # number of instance\n",
    "    n = data.shape[0]\n",
    "    # variable for storing result. row is the number of data, columns is the number of k-nearest neighbour\n",
    "    temp = np.zeros(shape=(n, k))\n",
    "    # find all the k-nearest neighbour in data\n",
    "    for i in range(n):\n",
    "        temp[i, :] = np.array(kNN(data[i, :], data, k))\n",
    "        \n",
    "    # return the indices of the k-nearest neighbour in all data\n",
    "    return temp.astype(int)"
   ]
  },
  {
   "cell_type": "markdown",
   "metadata": {},
   "source": [
    "Based on the indices of $k$-nearest neighbour and let $t_i$ be the $i$-th instance of $T$, we calculate the synthetic data of $T$ as follows :\n",
    "\n",
    "$$\n",
    "((t_i \\, attribute - nearestNeighbour \\, attribute) * random(0, 1)) + t_i \\, attribute\n",
    "$$"
   ]
  },
  {
   "cell_type": "code",
   "execution_count": 6,
   "metadata": {},
   "outputs": [],
   "source": [
    "def SMOTE(data, N, k=3):\n",
    "    \n",
    "    # find the shape of data\n",
    "    n, m = data.shape\n",
    "    # create zero array for storing synthetic data\n",
    "    # the number of instance in synthetic data is defined n*N\n",
    "    temp = np.zeros(shape=(n*N, m))\n",
    "    # find the indices of the k-nearest neighbour in all data\n",
    "    nnArray = populateNArray(data, k)\n",
    "    \n",
    "    # increment variable\n",
    "    l = 0\n",
    "    # loop in all data\n",
    "    for i in range(n):\n",
    "        # loop the number of times synthetic instance will be created\n",
    "        for j in range(N):\n",
    "            # calculate new synthetic instance\n",
    "            temp[l, :] = data[i, :] + ((data[nnArray[i,N], :] - data[i, :]) * np.random.uniform(0, 1))\n",
    "            l += 1      \n",
    "            \n",
    "    # return smoted data\n",
    "    return temp"
   ]
  },
  {
   "cell_type": "code",
   "execution_count": 7,
   "metadata": {
    "scrolled": true
   },
   "outputs": [
    {
     "data": {
      "text/plain": [
       "array([[38.66439559, 94.43648751],\n",
       "       [39.38582818, 94.39713664],\n",
       "       [56.73655557, 16.38967999],\n",
       "       [53.44939545, 18.75643528],\n",
       "       [67.02872144,  9.89036469],\n",
       "       [67.20913727, 15.48325528],\n",
       "       [48.3037726 , 11.69083797],\n",
       "       [45.67509277, 18.07477469],\n",
       "       [ 5.25004738, 21.85738654],\n",
       "       [ 5.321929  , 22.22706344],\n",
       "       [52.79907933, 93.66550476],\n",
       "       [57.51393059, 93.40833106],\n",
       "       [37.86228623,  7.77245725],\n",
       "       [25.47933072,  5.29586614],\n",
       "       [31.33316804, 35.4445753 ],\n",
       "       [30.72051733, 35.92959044],\n",
       "       [10.53486416, 31.08870069],\n",
       "       [15.38430821, 21.69290285],\n",
       "       [27.25997325,  8.98441175],\n",
       "       [27.50669969,  9.28596629]])"
      ]
     },
     "execution_count": 7,
     "metadata": {},
     "output_type": "execute_result"
    }
   ],
   "source": [
    "x_smoted = SMOTE(X, N)\n",
    "x_smoted"
   ]
  },
  {
   "cell_type": "code",
   "execution_count": 8,
   "metadata": {},
   "outputs": [
    {
     "data": {
      "image/png": "[encoded data removed]",
      "text/plain": [
       "<Figure size 432x288 with 1 Axes>"
      ]
     },
     "metadata": {
      "needs_background": "light"
     },
     "output_type": "display_data"
    }
   ],
   "source": [
    "plt.scatter(X[:,0], X[:,1], color='blue', label=\"real data\", alpha=0.5)\n",
    "plt.scatter(x_smoted[:,0], x_smoted[:,1], color='orange', label=\"smote data\", alpha=0.5)\n",
    "plt.legend(bbox_to_anchor=(1.01, 1), loc='upper left')\n",
    "plt.show()"
   ]
  },
  {
   "cell_type": "markdown",
   "metadata": {},
   "source": [
    "note :\n",
    "- this implementation not covered for N < 100%\n"
   ]
  }
 ],
 "metadata": {
  "kernelspec": {
   "display_name": "Python 3",
   "language": "python",
   "name": "python3"
  },
  "language_info": {
   "codemirror_mode": {
    "name": "ipython",
    "version": 3
   },
   "file_extension": ".py",
   "mimetype": "text/x-python",
   "name": "python",
   "nbconvert_exporter": "python",
   "pygments_lexer": "ipython3",
   "version": "3.8.3"
  }
 },
 "nbformat": 4,
 "nbformat_minor": 2
}
