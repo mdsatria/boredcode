{
 "cells": [
  {
   "cell_type": "markdown",
   "metadata": {},
   "source": [
    "# VISUALIZING FEATURES\n",
    "# PCA, T-SNE and UMAP"
   ]
  },
  {
   "cell_type": "code",
   "execution_count": 1,
   "metadata": {},
   "outputs": [],
   "source": [
    "from sklearn.datasets import load_iris, load_digits, load_wine, load_breast_cancer\n",
    "from sklearn.datasets import fetch_openml\n",
    "from sklearn.manifold import TSNE\n",
    "from sklearn.decomposition import PCA\n",
    "from umap import UMAP\n",
    "import numpy as np\n",
    "import matplotlib.pyplot as plt\n",
    "\n",
    "from sklearn.model_selection import train_test_split"
   ]
  },
  {
   "cell_type": "markdown",
   "metadata": {},
   "source": [
    "## Create Function"
   ]
  },
  {
   "cell_type": "code",
   "execution_count": 2,
   "metadata": {},
   "outputs": [],
   "source": [
    "def compare_viz(data, labels, title, dct_pca, dct_tsne, dct_umap, dct_plot):\n",
    "    \n",
    "    x_pca = PCA(**dct_pca).fit_transform(data)\n",
    "    x_tsne = TSNE(**dct_tsne).fit_transform(data)\n",
    "    x_umap = UMAP(**dct_umap).fit_transform(data)\n",
    "    \n",
    "    fig, axes = plt.subplots(1,3, figsize=(18,5))\n",
    "    fig.suptitle(title, fontsize=20)\n",
    "    axes[0].scatter(x_pca[:,0], x_pca[:,1], c=labels, **dct_plot)\n",
    "    axes[0].set_title('PCA')\n",
    "    axes[1].scatter(x_tsne[:,0], x_tsne[:,1], c=labels, **dct_plot)\n",
    "    axes[1].set_title('T-SNE')\n",
    "    axes[2].scatter(x_umap[:,0], x_umap[:,1], c=labels, **dct_plot)\n",
    "    axes[2].set_title('UMAP')\n",
    "    plt.show()"
   ]
  },
  {
   "cell_type": "markdown",
   "metadata": {},
   "source": [
    "## Set Parameters"
   ]
  },
  {
   "cell_type": "code",
   "execution_count": 3,
   "metadata": {},
   "outputs": [],
   "source": [
    "pca_param = {'n_components':2}\n",
    "plot_para ={'alpha':0.7, 'cmap':'viridis', 'edgecolors':'grey', 's':20}"
   ]
  },
  {
   "cell_type": "code",
   "execution_count": 4,
   "metadata": {},
   "outputs": [],
   "source": [
    "plt.style.use('seaborn')"
   ]
  },
  {
   "cell_type": "markdown",
   "metadata": {},
   "source": [
    "## Load Dataset"
   ]
  },
  {
   "cell_type": "code",
   "execution_count": 5,
   "metadata": {},
   "outputs": [],
   "source": [
    "iris = load_iris()\n",
    "digits = load_digits()\n",
    "wine = load_wine()\n",
    "breast = load_breast_cancer()\n",
    "\n",
    "#mnist_x, mnist_y = fetch_openml('mnist_784', version=1, return_X_y=True)\n",
    "#fmnist_x, fmnist_y = fetch_openml('Fashion-MNIST', version=1, return_X_y=True)"
   ]
  },
  {
   "cell_type": "markdown",
   "metadata": {},
   "source": [
    "### IRIS"
   ]
  },
  {
   "cell_type": "code",
   "execution_count": null,
   "metadata": {},
   "outputs": [],
   "source": [
    "compare_viz(iris.data, iris.target, 'IRIS', pca_param, pca_param, pca_param, plot_para)"
   ]
  },
  {
   "cell_type": "markdown",
   "metadata": {},
   "source": [
    "### DIGITS"
   ]
  },
  {
   "cell_type": "code",
   "execution_count": null,
   "metadata": {},
   "outputs": [],
   "source": [
    "compare_viz(digits.data, digits.target, 'DIGITS', pca_param, pca_param, pca_param, plot_para)"
   ]
  },
  {
   "cell_type": "code",
   "execution_count": null,
   "metadata": {},
   "outputs": [],
   "source": [
    "X_train, X_test, y_train, y_test = train_test_split(digits.data, digits.target, test_size=0.5, random_state=42)"
   ]
  },
  {
   "cell_type": "markdown",
   "metadata": {},
   "source": [
    "check whether umap produce consistent result for visualizing same class data"
   ]
  },
  {
   "cell_type": "code",
   "execution_count": null,
   "metadata": {},
   "outputs": [],
   "source": [
    "import matplotlib as mpl"
   ]
  },
  {
   "cell_type": "code",
   "execution_count": null,
   "metadata": {},
   "outputs": [],
   "source": [
    "train_umap = UMAP(n_components=2, random_state=42).fit_transform(X_train)\n",
    "test_umap =  UMAP(n_components=2, random_state=42).fit_transform(X_test)"
   ]
  },
  {
   "cell_type": "code",
   "execution_count": null,
   "metadata": {},
   "outputs": [],
   "source": [
    "fig, axes = plt.subplots(1,2, figsize=(18,6))\n",
    "im = axes[0].scatter(train_umap[:,0],train_umap[:,1], c=y_train, cmap='tab10', alpha=.4, edgecolor='grey')\n",
    "im = axes[1].scatter(test_umap[:,0],test_umap[:,1], c=y_test, cmap='tab10', alpha=.4, edgecolor='grey')\n",
    "\n",
    "cax,kw = mpl.colorbar.make_axes([ax for ax in axes.flat])\n",
    "plt.colorbar(im, cax=cax, ticks=np.unique(y_train).astype(int))\n",
    "\n",
    "plt.show()"
   ]
  },
  {
   "cell_type": "markdown",
   "metadata": {},
   "source": [
    "### WINE"
   ]
  },
  {
   "cell_type": "code",
   "execution_count": null,
   "metadata": {},
   "outputs": [],
   "source": [
    "compare_viz(wine.data, wine.target, 'WINE', pca_param, pca_param, pca_param, plot_para)"
   ]
  },
  {
   "cell_type": "markdown",
   "metadata": {},
   "source": [
    "### BREAST"
   ]
  },
  {
   "cell_type": "code",
   "execution_count": null,
   "metadata": {
    "scrolled": true
   },
   "outputs": [],
   "source": [
    "compare_viz(breast.data, breast.target, 'BREAST', pca_param, pca_param, pca_param, plot_para)"
   ]
  },
  {
   "cell_type": "markdown",
   "metadata": {},
   "source": [
    "### MNIST"
   ]
  },
  {
   "cell_type": "code",
   "execution_count": null,
   "metadata": {},
   "outputs": [],
   "source": [
    "#compare_viz(mnist_x, mnist_y, 'MNIST', pca_param, pca_param, pca_param, plot_para)"
   ]
  },
  {
   "cell_type": "markdown",
   "metadata": {},
   "source": [
    "### FASHION-MNIST"
   ]
  },
  {
   "cell_type": "code",
   "execution_count": null,
   "metadata": {},
   "outputs": [],
   "source": [
    "#compare_viz(fmnist_x, fmnist_y, 'FASHION-MNIST', pca_param, pca_param, pca_param, plot_para)"
   ]
  }
 ],
 "metadata": {
  "kernelspec": {
   "display_name": "Python 3",
   "language": "python",
   "name": "python3"
  },
  "language_info": {
   "codemirror_mode": {
    "name": "ipython",
    "version": 3
   },
   "file_extension": ".py",
   "mimetype": "text/x-python",
   "name": "python",
   "nbconvert_exporter": "python",
   "pygments_lexer": "ipython3",
   "version": "3.6.8"
  }
 },
 "nbformat": 4,
 "nbformat_minor": 2
}
